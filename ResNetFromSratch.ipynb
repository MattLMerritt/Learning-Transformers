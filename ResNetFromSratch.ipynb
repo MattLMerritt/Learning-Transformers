{
  "nbformat": 4,
  "nbformat_minor": 0,
  "metadata": {
    "colab": {
      "name": "ResNetFromSratch.ipynb",
      "provenance": [],
      "collapsed_sections": [],
      "authorship_tag": "ABX9TyOC5x3SQcyVGST1XphgMbXj"
    },
    "kernelspec": {
      "name": "python3",
      "display_name": "Python 3"
    },
    "language_info": {
      "name": "python"
    }
  },
  "cells": [
    {
      "cell_type": "code",
      "execution_count": 9,
      "metadata": {
        "id": "Uy8drHoiAScG"
      },
      "outputs": [],
      "source": [
        ""
      ]
    },
    {
      "cell_type": "markdown",
      "source": [
        "# Building a basic Resnet Model from Scratch\n",
        "Using the material and code provided from the linked resources"
      ],
      "metadata": {
        "id": "xMuYpiFIAYa_"
      }
    },
    {
      "cell_type": "code",
      "source": [
        "# import deps\n",
        "import torch\n",
        "import torch.nn as nn"
      ],
      "metadata": {
        "id": "GTb16JYvAdwR"
      },
      "execution_count": 10,
      "outputs": []
    },
    {
      "cell_type": "code",
      "source": [
        "class block(nn.Module):\n",
        "    def __init__(\n",
        "        self, in_channels, intermediate_channels, identity_downsample=None, stride=1\n",
        "    ):\n",
        "        super(block, self).__init__()\n",
        "        self.expansion = 4\n",
        "        self.conv1 = nn.Conv2d(\n",
        "          in_channels, intermediate_channels, kernel_size=1, stride=1, padding=0, bias=False\n",
        "        )\n",
        "        self.bn1 = nn.BatchNorm2d(intermediate_channels)\n",
        "        self.conv2 = nn.Conv2d(\n",
        "          intermediate_channels,\n",
        "          intermediate_channels,\n",
        "          kernel_size=3,\n",
        "          stride=stride,\n",
        "          padding=1,\n",
        "          bias=False\n",
        "        )\n",
        "        self.bn2 = nn.BatchNorm2d(intermediate_channels)\n",
        "        self.conv3 = nn.Conv2d(\n",
        "          intermediate_channels,\n",
        "          intermediate_channels * self.expansion,\n",
        "          kernel_size=1,\n",
        "          stride=1,\n",
        "          padding=0,\n",
        "          bias=False\n",
        "        )\n",
        "        self.bn3 = nn.BatchNorm2d(intermediate_channels * self.expansion)\n",
        "        self.relu = nn.ReLU()\n",
        "        self.identity_downsample = identity_downsample\n",
        "        self.stride = stride\n",
        "\n",
        "    def forward(self, x):\n",
        "      identity = x.clone()\n",
        "\n",
        "      x = self.conv1(x)\n",
        "      x = self.bn1(x)\n",
        "      x = self.relu(x)\n",
        "      x = self.conv2(x)\n",
        "      x = self.bn2(x)\n",
        "      x = self.relu(x)\n",
        "      x = self.conv3(x)\n",
        "      x = self.bn3(x)\n",
        "\n",
        "      if self.identity_downsample is not None:\n",
        "          identity = self.identity_downsample(identity)\n",
        "\n",
        "      x += identity\n",
        "      x = self.relu(x)\n",
        "      return x"
      ],
      "metadata": {
        "id": "PGEz4ymBA8-p"
      },
      "execution_count": 11,
      "outputs": []
    },
    {
      "cell_type": "code",
      "source": [
        "class ResNet(nn.Module):\n",
        "  def __init__(self, block, layers, image_channels, num_classes):\n",
        "    super(ResNet, self).__init__()\n",
        "    self.in_channels = 64\n",
        "    self.conv1 = nn.Conv2d(image_channels, 64, kernel_size=7, stride=2, padding=3, bias=False)\n",
        "    self.bn1 = nn.BatchNorm2d(64)\n",
        "    self.relu = nn.ReLU()\n",
        "    self.maxpool = nn.MaxPool2d(kernel_size=3, stride=2, padding=1)\n",
        "\n",
        "    # Essentially the entire ResNet architecture are in these 4 lines below\n",
        "    self.layer1 = self._make_layer(\n",
        "    block, layers[0], intermediate_channels=64, stride=1\n",
        "    )\n",
        "    self.layer2 = self._make_layer(\n",
        "    block, layers[1], intermediate_channels=128, stride=2\n",
        "    )\n",
        "    self.layer3 = self._make_layer(\n",
        "    block, layers[2], intermediate_channels=256, stride=2\n",
        "    )\n",
        "    self.layer4 = self._make_layer(\n",
        "    block, layers[3], intermediate_channels=512, stride=2\n",
        "    )\n",
        "\n",
        "    self.avgpool = nn.AdaptiveAvgPool2d((1, 1))\n",
        "    self.fc = nn.Linear(512 * 4, num_classes)\n",
        "\n",
        "  # forward pass through newtwork\n",
        "  def forward(self, x):\n",
        "    x = self.conv1(x)\n",
        "    x = self.bn1(x)\n",
        "    x = self.relu(x)\n",
        "    x = self.maxpool(x)\n",
        "    x = self.layer1(x)\n",
        "    x = self.layer2(x)\n",
        "    x = self.layer3(x)\n",
        "    x = self.layer4(x)\n",
        "\n",
        "    x = self.avgpool(x)\n",
        "    x = x.reshape(x.shape[0], -1)\n",
        "    x = self.fc(x)\n",
        "    return x\n",
        "  \n",
        "  def _make_layer(self, block, num_residual_blocks, intermediate_channels, stride):\n",
        "    identity_downsample = None\n",
        "    layers = []\n",
        "\n",
        "    # Either if we half the input space for ex, 56x56 -> 28x28 (stride=2), or channels changes\n",
        "    # we need to adapt the Identity (skip connection) so it will be able to be added\n",
        "    # to the layer that's ahead\n",
        "\n",
        "\n",
        "    if stride != 1 or self.in_channels != intermediate_channels * 4:\n",
        "      identity_downsample = nn.Sequential(\n",
        "      nn.Conv2d(\n",
        "      self.in_channels,\n",
        "      intermediate_channels * 4,\n",
        "      kernel_size=1,\n",
        "      stride=stride,\n",
        "      bias=False\n",
        "      ),\n",
        "      nn.BatchNorm2d(intermediate_channels * 4),\n",
        "      )\n",
        "\n",
        "    layers.append(\n",
        "    block(self.in_channels, intermediate_channels, identity_downsample, stride)\n",
        "    )\n",
        "\n",
        "    # The expansion size is always 4 for ResNet 50,101,152\n",
        "    self.in_channels = intermediate_channels * 4\n",
        "\n",
        "    # For example for first resnet layer: 256 will be mapped to 64 as intermediate layer,\n",
        "    # then finally back to 256. Hence no identity downsample is needed, since stride = 1,\n",
        "    # and also same amount of channels.\n",
        "    for i in range(num_residual_blocks - 1):\n",
        "      layers.append(block(self.in_channels, intermediate_channels))\n",
        "    \n",
        "    return nn.Sequential(*layers)"
      ],
      "metadata": {
        "id": "QtpsbQoTA_so"
      },
      "execution_count": 35,
      "outputs": []
    },
    {
      "cell_type": "code",
      "source": [
        "def ResNet50(img_channel=3, num_classes=1000):\n",
        "  return ResNet(block, [3, 4, 6, 3], img_channel, num_classes)\n",
        "\n",
        "def ResNet101(img_channel=3, num_classes=1000):\n",
        "  return ResNet(block, [3, 4, 23, 3], img_channel, num_classes)\n",
        "\n",
        "def ResNet152(img_channel=3, num_classes=1000):\n",
        "  return ResNet(block, [3, 8, 36, 3], img_channel, num_classes)\n",
        "\n",
        "def test():\n",
        "  net = ResNet101(img_channel=3, num_classes=1000)\n",
        "  device = \"cuda\" if torch.cuda.is_available() else \"cpu\"\n",
        "  y = net(torch.randn(4, 3, 224, 224)).to(device)\n",
        "  print(y.size())"
      ],
      "metadata": {
        "id": "I_3e3g1JCOHT"
      },
      "execution_count": 36,
      "outputs": []
    },
    {
      "cell_type": "code",
      "source": [
        "test()"
      ],
      "metadata": {
        "colab": {
          "base_uri": "https://localhost:8080/"
        },
        "id": "FCzcqmlBCEIe",
        "outputId": "7850a645-93ae-4853-e662-ee6bf68b5cec"
      },
      "execution_count": 37,
      "outputs": [
        {
          "output_type": "stream",
          "name": "stdout",
          "text": [
            "torch.Size([4, 1000])\n"
          ]
        }
      ]
    }
  ]
}